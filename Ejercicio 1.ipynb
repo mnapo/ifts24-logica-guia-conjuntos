{
  "metadata": {
    "kernelspec": {
      "name": "python",
      "display_name": "Python (Pyodide)",
      "language": "python"
    },
    "language_info": {
      "codemirror_mode": {
        "name": "python",
        "version": 3
      },
      "file_extension": ".py",
      "mimetype": "text/x-python",
      "name": "python",
      "nbconvert_exporter": "python",
      "pygments_lexer": "ipython3",
      "version": "3.8"
    }
  },
  "nbformat_minor": 5,
  "nbformat": 4,
  "cells": [
    {
      "id": "42e58aba-d688-4afc-a67d-ea17c4f48c35",
      "cell_type": "markdown",
      "source": "# CONSIGNA\nDados los conjuntos $A = \\{a,b,c,d,e,f\\}$, $B = \\{d,e,f,g\\}$, $C = \\{b,c,d,e\\}$. Hallar:",
      "metadata": {}
    },
    {
      "id": "1a9bb8bb-ad91-49d3-80c0-66b0c4edfb2f",
      "cell_type": "markdown",
      "source": "### a) $A-B$",
      "metadata": {}
    },
    {
      "id": "fb4c6ab5-268c-4b75-a5f1-1e018f48eeec",
      "cell_type": "markdown",
      "source": "$= \\{a,b,c,d,e,f\\}-\\{d,e,f,g\\}=\\{a,b,c\\}$",
      "metadata": {}
    },
    {
      "id": "adabbad5-9f46-4c14-9e44-3f01444729d4",
      "cell_type": "markdown",
      "source": "### b) $B^C$",
      "metadata": {}
    },
    {
      "id": "019126ed-e8e5-4c61-ade0-7d6aaf29ade0",
      "cell_type": "markdown",
      "source": "$U = A\\cup B\\cup C = \\{a,b,c,d,e,f,g\\}$",
      "metadata": {}
    },
    {
      "id": "c9a13847-0af1-4ee0-a372-1aa910cd197d",
      "cell_type": "markdown",
      "source": "$B^C = U - B$",
      "metadata": {}
    },
    {
      "id": "9bc59a0d-007d-4f76-9240-c35406df7c1c",
      "cell_type": "markdown",
      "source": "$B^C = \\{a,b,c,d,e,f,g\\} - \\{d,e,f,g\\} = \\{a, b, c\\}$",
      "metadata": {}
    },
    {
      "id": "e39aa70b-f6e0-447a-838c-b47d6f7cb339",
      "cell_type": "markdown",
      "source": "### c) $(A-C)\\cap(A-B)$",
      "metadata": {}
    },
    {
      "id": "cbc2dcd1-d64d-4b06-bc26-77a457440ad3",
      "cell_type": "markdown",
      "source": "$A-C=\\{a,f\\}$",
      "metadata": {}
    },
    {
      "id": "0391f6c2-17b8-4117-a98b-ce26e6484997",
      "cell_type": "markdown",
      "source": "$A-B=\\{a,b,c\\}$",
      "metadata": {}
    },
    {
      "id": "e1858f23-4f9e-4e6d-9ca3-c4a98ce54e0a",
      "cell_type": "markdown",
      "source": "$(A-C)\\cap(A-B)=\\{a\\}$",
      "metadata": {}
    },
    {
      "id": "0b6b39fe-8f2a-4583-84b8-bb4e6e8ffadf",
      "cell_type": "markdown",
      "source": "### d) $B\\cap C$",
      "metadata": {}
    },
    {
      "id": "1639ee11-3bc2-4ce5-aa2c-9780de283861",
      "cell_type": "markdown",
      "source": "$=\\{d,e\\}$",
      "metadata": {}
    },
    {
      "id": "7f03f97b-e54b-4f2d-b35d-cdbf5063248f",
      "cell_type": "markdown",
      "source": "### e) $(A\\cup B)-C$",
      "metadata": {}
    },
    {
      "id": "bf8c688e-df3e-40e5-8cf4-5313cf782076",
      "cell_type": "markdown",
      "source": "$\\{a,b,c,d,e,f,g\\}-\\{b,c,d,e\\}=\\{a,f,g\\}$",
      "metadata": {}
    },
    {
      "id": "b56cacf7-d5e8-428b-9130-f9e549811075",
      "cell_type": "markdown",
      "source": "### f)  $(B\\cup C)-(A-B)$",
      "metadata": {}
    },
    {
      "id": "8ed8083b-3c6a-4412-a51d-97db9c29627d",
      "cell_type": "markdown",
      "source": "$B\\cup C=\\{b,c,d,e,f,g\\}$",
      "metadata": {}
    },
    {
      "id": "12f1f463-03d3-4ce0-b404-4af579fc4976",
      "cell_type": "markdown",
      "source": "$(A-B)=\\{b,c,d,e,f,g\\}$",
      "metadata": {}
    },
    {
      "id": "dd4d4c40-98b9-4810-9890-3dd6496284e6",
      "cell_type": "markdown",
      "source": "### g)  $A\\cup B$",
      "metadata": {}
    },
    {
      "id": "a588d488-ea26-4a93-a08d-441662954708",
      "cell_type": "markdown",
      "source": "$=\\{a,b,c,d,e,f,g\\}$",
      "metadata": {}
    },
    {
      "id": "fcaba2c3-b639-4d9c-bed7-83f875c22b7a",
      "cell_type": "markdown",
      "source": "### h) $(A-C)^C$",
      "metadata": {}
    },
    {
      "id": "a2dff21c-5368-4b0d-9fc4-80d8b1a1fee1",
      "cell_type": "markdown",
      "source": "$U-\\{a,f\\}=\\{b,c,d,e,g\\}$",
      "metadata": {}
    },
    {
      "id": "021c1759-3ab7-441f-a6a1-00c065bd72e5",
      "cell_type": "markdown",
      "source": "### i) $(B\\cap C)^C$",
      "metadata": {}
    },
    {
      "id": "14e9e598-7ac6-48c7-86f4-18831cfdf756",
      "cell_type": "markdown",
      "source": "$=\\{d,e\\}^C=\\{a,b,c,f,g\\}$",
      "metadata": {}
    },
    {
      "id": "a16095aa-b50a-4f57-9f38-c0e01bb8f4bb",
      "cell_type": "markdown",
      "source": "### j) $A-(B\\cap C)$",
      "metadata": {}
    },
    {
      "id": "8b8f6aa8-8ed8-4d20-bf51-fe9413deabcd",
      "cell_type": "markdown",
      "source": "$=\\{a,b,c,d,e,f\\}-\\{d,e\\}=\\{a,b,c,f\\}$",
      "metadata": {}
    },
    {
      "id": "2383b380-7ef6-4b7f-aa2f-7866d85b6229",
      "cell_type": "markdown",
      "source": "### k) $(A\\cup B)^C$",
      "metadata": {}
    },
    {
      "id": "750d2441-0595-4a6b-b436-91ee4ad42d9b",
      "cell_type": "markdown",
      "source": "$=\\{a,b,c,d,e,f,g\\}-\\{a,b,c\\}=\\emptyset$",
      "metadata": {}
    },
    {
      "id": "3daade05-a4f3-4a9b-9d02-7aebee5f1489",
      "cell_type": "markdown",
      "source": "### l) $A\\cap B\\cap C$",
      "metadata": {}
    },
    {
      "id": "74a626fd-892a-43c8-aad1-05137db8a80b",
      "cell_type": "markdown",
      "source": "$\\{a,b,c,d,e,f\\}\\cap\\{d,e,f,g\\}\\cap\\{b,c,d,e\\}=$",
      "metadata": {}
    },
    {
      "id": "a30511e0-e8a4-4da2-acc5-392c6682f18c",
      "cell_type": "markdown",
      "source": "$=\\{d,e,f\\}\\cap\\{b,c,d,e\\}=\\{d,e\\}$",
      "metadata": {}
    },
    {
      "id": "95642c5a-2bdf-427b-b6a8-9231fc2b308d",
      "cell_type": "markdown",
      "source": "### m) $A\\Delta B$",
      "metadata": {}
    },
    {
      "id": "53c8fd74-4cc5-408b-9363-b2df50b545df",
      "cell_type": "markdown",
      "source": "$=(A\\cup B)-(A\\cap B)=$",
      "metadata": {}
    },
    {
      "id": "8c9c1d78-7cdf-4606-ae1e-fba22ce81efa",
      "cell_type": "markdown",
      "source": "$=\\{a,b,c,d,e,f,g\\}-\\{d,e,f\\}=\\{a,b,c,g\\}$",
      "metadata": {}
    },
    {
      "id": "7339e21c-1b21-4d96-8f1b-efaedbbd75c4",
      "cell_type": "markdown",
      "source": "### n)  $A\\cap(B\\Delta C)$",
      "metadata": {}
    },
    {
      "id": "c9400f58-4756-4a01-9346-3931c9b4d384",
      "cell_type": "markdown",
      "source": "$B\\Delta C=(\\{d,e,f,g\\}\\cup\\{b,c,d,e\\})-(\\{d,e,f,g\\}\\cap\\{b,c,d,e\\})=$",
      "metadata": {}
    },
    {
      "id": "d9c9aa26-19ee-4cb0-ab62-04b6847f26ff",
      "cell_type": "markdown",
      "source": "$=\\{b,c,d,e,f,g\\}-\\{d,e\\}=\\{b,c,f,g\\}$",
      "metadata": {}
    },
    {
      "id": "89836d14-102e-4b0b-b9ef-6bdf7551640b",
      "cell_type": "markdown",
      "source": "$\\{a,b,c,d,e,f\\}\\cap\\{b,c,f,g\\}=\\{b,c,f\\}$",
      "metadata": {}
    },
    {
      "id": "493abe63-6e75-42c7-9896-e874533dd23d",
      "cell_type": "markdown",
      "source": "### o) $B\\Delta(A\\cup C)$",
      "metadata": {}
    },
    {
      "id": "5bdecf88-3256-4b7e-be58-70d6b042800c",
      "cell_type": "markdown",
      "source": "$=[\\{d,e,f,g\\}\\cup(A\\cup C)]-[\\{d,e,f,g\\}\\cap(A\\cup C)]=$",
      "metadata": {}
    },
    {
      "id": "6a4134e2-acda-42ca-839c-03eff7599f76",
      "cell_type": "markdown",
      "source": "$=(\\{d,e,f,g\\}\\cup\\{a,b,c,d,e,f\\})-(\\{d,e,f,g\\}\\cap\\{a,b,c,d,e,f\\})=$",
      "metadata": {}
    },
    {
      "id": "78e3e424-fe8c-4eff-961c-80b211345ab7",
      "cell_type": "markdown",
      "source": "$=\\{a,b,c,d,e,f,g\\}-\\{d,e,f\\}=\\{a,b,c,g\\}$",
      "metadata": {}
    }
  ]
}